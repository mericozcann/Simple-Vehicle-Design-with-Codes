#%% raw
import matplotlib.pyplot as plt
from mpl_toolkits.mplot3d.art3d import Poly3DCollection

# Şekil ve eksen oluşturma
fig = plt.figure(figsize=(12, 8))
ax = fig.add_subplot(111, projection='3d')

# Araç gövdesi
vertices = [
    [[0, 0, 0], [3, 0, 0], [3, 1.5, 0], [0, 1.5, 0]],  # alt yüzey
    [[0, 0, 1], [3, 0, 1], [3, 1.5, 1], [0, 1.5, 1]],  # üst yüzey
    [[0, 0, 0], [0, 1.5, 0], [0, 1.5, 1], [0, 0, 1]],  # sol yüzey
    [[3, 0, 0], [3, 1.5, 0], [3, 1.5, 1], [3, 0, 1]],  # sağ yüzey
    [[0, 0, 0], [3, 0, 0], [3, 0, 1], [0, 0, 1]],      # ön yüzey
    [[0, 1.5, 0], [3, 1.5, 0], [3, 1.5, 1], [0, 1.5, 1]]  # arka yüzey
]

# Yüzeyleri oluşturma
poly3d = [vertices[0], vertices[1], vertices[2], vertices[3], vertices[4], vertices[5]]
ax.add_collection3d(Poly3DCollection(poly3d, facecolors='blue', linewidths=1, edgecolors='black', alpha=.25))

# Roll bar
roll_bar_vertices = [
    [[1, 0.75, 1], [2, 0.75, 1], [2, 0.75, 1.2], [1, 0.75, 1.2]],  # üst yüzey
    [[1, 0.75, 1], [1, 0.75, 1.2], [1, 0.75, 1.2], [1, 0.75, 1]],  # sol yüzey
    [[2, 0.75, 1], [2, 0.75, 1.2], [2, 0.75, 1.2], [2, 0.75, 1]]   # sağ yüzey
]
poly3d = [roll_bar_vertices[0], roll_bar_vertices[1], roll_bar_vertices[2]]
ax.add_collection3d(Poly3DCollection(poly3d, facecolors='green', linewidths=1, edgecolors='black', alpha=.5))

# Dingil genişliği ve tekerlekler
ax.plot([0.5, 0.5], [0, 1.5], [0, 0], marker='o', markersize=10, color='black')
ax.plot([2.5, 2.5], [0, 1.5], [0, 0], marker='o', markersize=10, color='black')
ax.plot([0.5, 0.5], [0, 1.5], [0, 0], linestyle='-', color='black')
ax.plot([2.5, 2.5], [0, 1.5], [0, 0], linestyle='-', color='black')

# Sürücü bölmesi
driver_compartment_vertices = [
    [[1, 0.5, 0.5], [2, 0.5, 0.5], [2, 1, 0.5], [1, 1, 0.5]],  # taban
    [[1, 0.5, 1], [2, 0.5, 1], [2, 1, 1], [1, 1, 1]],  # tavan
    [[1, 0.5, 0.5], [1, 1, 0.5], [1, 1, 1], [1, 0.5, 1]],  # sol yüzey
    [[2, 0.5, 0.5], [2, 1, 0.5], [2, 1, 1], [2, 0.5, 1]],  # sağ yüzey
]
poly3d = [driver_compartment_vertices[0], driver_compartment_vertices[1], driver_compartment_vertices[2], driver_compartment_vertices[3]]
ax.add_collection3d(Poly3DCollection(poly3d, facecolors='red', linewidths=1, edgecolors='black', alpha=.5))

# Bagaj alanı
luggage_space_vertices = [
    [[0.5, 0.5, 0], [1, 0.5, 0], [1, 0.5, 0.2], [0.5, 0.5, 0.2]],  # taban
    [[0.5, 0.5, 0.2], [1, 0.5, 0.2], [1, 0.5, 0.2], [0.5, 0.5, 0.2]],  # tavan
    [[0.5, 0.5, 0], [0.5, 0.5, 0.2], [0.5, 0.5, 0.2], [0.5, 0.5, 0]],  # sol yüzey
    [[1, 0.5, 0], [1, 0.5, 0.2], [1, 0.5, 0.2], [1, 0.5, 0]],  # sağ yüzey
]
poly3d = [luggage_space_vertices[0], luggage_space_vertices[1], luggage_space_vertices[2], luggage_space_vertices[3]]
ax.add_collection3d(Poly3DCollection(poly3d, facecolors='brown', linewidths=1, edgecolors='black', alpha=.5))

# Görselleştirme ve ayarlar
ax.set_xlim(0, 3)
ax.set_ylim(0, 1.5)
ax.set_zlim(0, 1.5)
ax.set_xlabel('Uzunluk')
ax.set_ylabel('Genişlik')
ax.set_zlabel('Yükseklik')

# Resmi kaydetme
plt.savefig('3d_model.jpg')
plt.show()
